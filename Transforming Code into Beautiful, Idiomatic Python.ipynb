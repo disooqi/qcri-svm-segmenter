{
 "cells": [
  {
   "cell_type": "code",
   "execution_count": 3,
   "metadata": {
    "collapsed": false
   },
   "outputs": [
    {
     "name": "stdout",
     "output_type": "stream",
     "text": [
      "Help on built-in function sorted in module __builtin__:\n",
      "\n",
      "sorted(...)\n",
      "    sorted(iterable, cmp=None, key=None, reverse=False) --> new sorted list\n",
      "\n"
     ]
    }
   ],
   "source": [
    "help(sorted)"
   ]
  },
  {
   "cell_type": "code",
   "execution_count": 25,
   "metadata": {
    "collapsed": true
   },
   "outputs": [],
   "source": [
    "a = [4,1,6,2,8,7,3,5,0]\n"
   ]
  },
  {
   "cell_type": "code",
   "execution_count": 7,
   "metadata": {
    "collapsed": false
   },
   "outputs": [
    {
     "data": {
      "text/plain": [
       "[1, 2, 3, 4, 5, 6, 7, 8]"
      ]
     },
     "execution_count": 7,
     "metadata": {},
     "output_type": "execute_result"
    }
   ],
   "source": [
    "sorted(a)"
   ]
  },
  {
   "cell_type": "code",
   "execution_count": 9,
   "metadata": {
    "collapsed": false
   },
   "outputs": [
    {
     "data": {
      "text/plain": [
       "[8, 7, 6, 5, 4, 3, 2, 1]"
      ]
     },
     "execution_count": 9,
     "metadata": {},
     "output_type": "execute_result"
    }
   ],
   "source": [
    "sorted(a, reverse=True)"
   ]
  },
  {
   "cell_type": "code",
   "execution_count": 23,
   "metadata": {
    "collapsed": false
   },
   "outputs": [
    {
     "data": {
      "text/plain": [
       "[1, 2, 3, 4, 5, 6, 7, 8]"
      ]
     },
     "execution_count": 23,
     "metadata": {},
     "output_type": "execute_result"
    }
   ],
   "source": [
    "def rev(c1,c2):\n",
    "    if c1 < c2: return -1\n",
    "    if c1 > c2: return 1\n",
    "    return 0\n",
    "sorted(a, cmp=rev)"
   ]
  },
  {
   "cell_type": "code",
   "execution_count": 30,
   "metadata": {
    "collapsed": false
   },
   "outputs": [
    {
     "data": {
      "text/plain": [
       "['cc', 'ddd', 'aaaa', 'aaaaa']"
      ]
     },
     "execution_count": 30,
     "metadata": {},
     "output_type": "execute_result"
    }
   ],
   "source": [
    "b = ['aaaaa','cc','ddd','aaaa']\n",
    "def len_2(item):\n",
    "    return len(item)\n",
    "sorted(b, key=len_2)"
   ]
  },
  {
   "cell_type": "code",
   "execution_count": 66,
   "metadata": {
    "collapsed": false
   },
   "outputs": [
    {
     "name": "stdout",
     "output_type": "stream",
     "text": [
      "ت 2\n"
     ]
    }
   ],
   "source": [
    "from functools import partial\n",
    "\n",
    "f = open('../GulfTweets.txt', mode='rb')\n",
    "blocks = []\n",
    "for block in iter(partial(f.read, 1), ''):\n",
    "    blocks.append(block)\n",
    "\n",
    "print ''.join(blocks[:2]), len(''.join(blocks[:2]))"
   ]
  },
  {
   "cell_type": "code",
   "execution_count": 73,
   "metadata": {
    "collapsed": false
   },
   "outputs": [],
   "source": [
    "from itertools import izip\n",
    "c = dict(izip(xrange(10),reversed(xrange(10))))"
   ]
  },
  {
   "cell_type": "code",
   "execution_count": 74,
   "metadata": {
    "collapsed": false
   },
   "outputs": [
    {
     "name": "stdout",
     "output_type": "stream",
     "text": [
      "(0, 9)\n",
      "(1, 8)\n",
      "(2, 7)\n",
      "(3, 6)\n",
      "(4, 5)\n",
      "(5, 4)\n",
      "(6, 3)\n",
      "(7, 2)\n",
      "(8, 1)\n",
      "(9, 0)\n"
     ]
    }
   ],
   "source": [
    "while c:\n",
    "    print c.popitem()"
   ]
  },
  {
   "cell_type": "markdown",
   "metadata": {},
   "source": [
    "### Grouping with dectionaries"
   ]
  },
  {
   "cell_type": "code",
   "execution_count": 64,
   "metadata": {
    "collapsed": false
   },
   "outputs": [
    {
     "data": {
      "text/plain": [
       "{5: ['Asmaa'], 6: ['Mariam', 'Fatema'], 7: ['Mohamed', 'disooqi']}"
      ]
     },
     "execution_count": 64,
     "metadata": {},
     "output_type": "execute_result"
    }
   ],
   "source": [
    "names = ['Mohamed', 'disooqi', 'Asmaa', 'Mariam', 'Fatema']\n",
    "\n",
    "d={}\n",
    "for name in names:\n",
    "    key = len(name)\n",
    "    if key not in d:\n",
    "        d[key] = []\n",
    "    d[key].append(name)\n",
    "    \n",
    "d"
   ]
  },
  {
   "cell_type": "code",
   "execution_count": 75,
   "metadata": {
    "collapsed": false
   },
   "outputs": [
    {
     "data": {
      "text/plain": [
       "defaultdict(list,\n",
       "            {5: ['Asmaa'], 6: ['Mariam', 'Fatema'], 7: ['Mohamed', 'disooqi']})"
      ]
     },
     "execution_count": 75,
     "metadata": {},
     "output_type": "execute_result"
    }
   ],
   "source": [
    "from collections import defaultdict\n",
    "\n",
    "d = defaultdict(list)\n",
    "for name in names:\n",
    "    key = len(name)\n",
    "    d[key].append(name)\n",
    "    \n",
    "d"
   ]
  },
  {
   "cell_type": "code",
   "execution_count": 92,
   "metadata": {
    "collapsed": false
   },
   "outputs": [
    {
     "ename": "SyntaxError",
     "evalue": "future feature ChainMap is not defined (<ipython-input-92-1cd4d596d082>, line 2)",
     "output_type": "error",
     "traceback": [
      "\u001b[1;36m  File \u001b[1;32m\"<ipython-input-92-1cd4d596d082>\"\u001b[1;36m, line \u001b[1;32m2\u001b[0m\n\u001b[1;33m    from __future__ import ChainMap\u001b[0m\n\u001b[1;31mSyntaxError\u001b[0m\u001b[1;31m:\u001b[0m future feature ChainMap is not defined\n"
     ]
    }
   ],
   "source": [
    "# from collections import ChainMap\n",
    "from __future__ import ChainMap\n",
    "\n",
    "d = ChainMap(c, b)"
   ]
  },
  {
   "cell_type": "code",
   "execution_count": 98,
   "metadata": {
    "collapsed": false
   },
   "outputs": [
    {
     "data": {
      "text/plain": [
       "disooqi(married=4, kids=2, job=1)"
      ]
     },
     "execution_count": 98,
     "metadata": {},
     "output_type": "execute_result"
    }
   ],
   "source": [
    "from collections import namedtuple\n",
    "dos = namedtuple('disooqi', ['married','kids','job'])\n",
    "dos(4,2,1)"
   ]
  }
 ],
 "metadata": {
  "kernelspec": {
   "display_name": "Python 2",
   "language": "python",
   "name": "python2"
  },
  "language_info": {
   "codemirror_mode": {
    "name": "ipython",
    "version": 2
   },
   "file_extension": ".py",
   "mimetype": "text/x-python",
   "name": "python",
   "nbconvert_exporter": "python",
   "pygments_lexer": "ipython2",
   "version": "2.7.11"
  }
 },
 "nbformat": 4,
 "nbformat_minor": 0
}
