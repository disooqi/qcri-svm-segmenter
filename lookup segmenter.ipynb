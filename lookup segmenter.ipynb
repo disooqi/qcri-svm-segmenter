{
 "cells": [
  {
   "cell_type": "code",
   "execution_count": 66,
   "metadata": {
    "collapsed": true
   },
   "outputs": [],
   "source": [
    "import codecs\n",
    "from collections import defaultdict\n",
    "import operator"
   ]
  },
  {
   "cell_type": "code",
   "execution_count": 98,
   "metadata": {
    "collapsed": false
   },
   "outputs": [],
   "source": [
    "fold = \"5\"\n",
    "egy_tokens = defaultdict(int)\n",
    "with codecs.open(r'final_splits_all_data/joint/joint/data_'+fold+'.train', encoding='utf-8') as fobj:\n",
    "    for line in fobj:\n",
    "        egy_tokens[line.strip().replace('+', '')] += 1\n",
    "\n",
    "lev_tokens = defaultdict(int)\n",
    "with codecs.open(r'final_splits_all_data/joint/joint/lev_trainfold_0'+fold, encoding='utf-8') as fobj:\n",
    "    for line in fobj:\n",
    "        lev_tokens[line.strip().replace('+', '')] += 1\n",
    "\n",
    "glf_tokens = defaultdict(int)\n",
    "with codecs.open(r'final_splits_all_data/joint/joint/glf_trainfold_0'+fold, encoding='utf-8') as fobj:\n",
    "    for line in fobj:\n",
    "        glf_tokens[line.strip().replace('+', '')] += 1\n",
    "\n",
    "magh_tokens = defaultdict(int)\n",
    "with codecs.open(r'final_splits_all_data/joint/joint/magh_'+fold+'.train', encoding='utf-8') as fobj:\n",
    "    for line in fobj:\n",
    "        magh_tokens[line.strip().replace('+', '')] += 1"
   ]
  },
  {
   "cell_type": "code",
   "execution_count": 97,
   "metadata": {
    "collapsed": false
   },
   "outputs": [
    {
     "name": "stdout",
     "output_type": "stream",
     "text": [
      "ما 27\n",
      "من 48\n",
      "على 47\n",
      "EOS 278\n",
      "و 114\n",
      "في 44\n",
      "راه 27\n",
      "مع 29\n",
      "واش 38\n",
      "هاد 26\n",
      "حنان 26\n",
      "ديال 41\n",
      "لي 32\n",
      "ايهاب 27\n",
      "لا 27\n"
     ]
    }
   ],
   "source": [
    "for tok in magh_tokens:\n",
    "    if magh_tokens[tok] > 25:\n",
    "        print tok, magh_tokens[tok]\n"
   ]
  },
  {
   "cell_type": "markdown",
   "metadata": {},
   "source": [
    "### make list of sentences (i.e. tweets)"
   ]
  },
  {
   "cell_type": "code",
   "execution_count": 99,
   "metadata": {
    "collapsed": false
   },
   "outputs": [],
   "source": [
    "tweets = list()\n",
    "sentence = list()\n",
    "count = 0\n",
    "with codecs.open(r'final_splits_all_data/joint/joint/joint.test.'+fold, encoding='utf-8') as fobj:\n",
    "    for i, line in enumerate(fobj):\n",
    "        if line.strip() in ['EOS', 'EOTWEET']:\n",
    "            tweets.append(sentence)\n",
    "            sentence = list()\n",
    "        else:\n",
    "            sentence.append(line.strip())\n",
    "#     else:\n",
    "#         print len(tweets)"
   ]
  },
  {
   "cell_type": "code",
   "execution_count": 100,
   "metadata": {
    "collapsed": false
   },
   "outputs": [],
   "source": [
    "egy_file = codecs.open(r'final_splits_all_data/joint/joint/selectedAs_4001_'+fold+'_egy', encoding='utf-8', mode='w')\n",
    "lev_file = codecs.open(r'final_splits_all_data/joint/joint/selectedAs_4001_'+fold+'_lev', encoding='utf-8', mode='w')\n",
    "glf_file = codecs.open(r'final_splits_all_data/joint/joint/selectedAs_4001_'+fold+'_glf', encoding='utf-8', mode='w')\n",
    "magh_file = codecs.open(r'final_splits_all_data/joint/joint/selectedAs_4001_'+fold+'_magh', encoding='utf-8', mode='w')\n",
    "for sentence in tweets:\n",
    "    egy_inc, egy_count = 0, 0\n",
    "    lev_inc, lev_count = 0, 0\n",
    "    glf_inc, glf_count = 0, 0\n",
    "    magh_inc, magh_count = 0, 0\n",
    "    for tok in sentence:\n",
    "    #     print tok,\n",
    "        egy_count += egy_tokens.get(tok,0)\n",
    "        if egy_tokens.get(tok,0) > 0:            egy_inc +=1\n",
    "        lev_count += lev_tokens.get(tok,0)\n",
    "        if lev_tokens.get(tok,0) > 0:            lev_inc +=1\n",
    "        glf_count += glf_tokens.get(tok,0)\n",
    "        if glf_tokens.get(tok,0) > 0:            glf_inc +=1\n",
    "        magh_count += magh_tokens.get(tok,0)\n",
    "        if magh_tokens.get(tok,0) > 0:           magh_inc +=1\n",
    "    else:\n",
    "        dial_code, _ = max(enumerate([egy_inc, lev_inc, glf_inc, magh_inc]), key=operator.itemgetter(1))\n",
    "        if dial_code == 0:\n",
    "            for tok in sentence:\n",
    "                egy_file.write(tok)\n",
    "                egy_file.write('\\n')\n",
    "            else:\n",
    "                egy_file.write('EOS')\n",
    "                egy_file.write('\\n')\n",
    "        elif dial_code == 1:\n",
    "            for tok in sentence:\n",
    "                lev_file.write(tok)\n",
    "                lev_file.write('\\n')\n",
    "            else:\n",
    "                lev_file.write('EOS')\n",
    "                lev_file.write('\\n')\n",
    "        elif dial_code == 2:\n",
    "            for tok in sentence:\n",
    "                glf_file.write(tok)\n",
    "                glf_file.write('\\n')\n",
    "            else:\n",
    "                glf_file.write('EOS')\n",
    "                glf_file.write('\\n')\n",
    "        elif dial_code == 3:\n",
    "            for tok in sentence:\n",
    "                magh_file.write(tok)\n",
    "                magh_file.write('\\n')\n",
    "            else:\n",
    "                magh_file.write('EOS')\n",
    "                magh_file.write('\\n')\n",
    "else:\n",
    "    egy_file.close()\n",
    "    lev_file.close()\n",
    "    glf_file.close()\n",
    "    magh_file.close()\n",
    "#         print 50*'-'\n",
    "#         print egy_count, lev_count, glf_count, magh_count, max(enumerate([egy_count, lev_count, glf_count, magh_count]), key=operator.itemgetter(1))\n",
    "#         print egy_inc, lev_inc, glf_inc, magh_inc, max(enumerate([egy_inc, lev_inc, glf_inc, magh_inc]), key=operator.itemgetter(1))\n",
    "    "
   ]
  },
  {
   "cell_type": "code",
   "execution_count": 23,
   "metadata": {
    "collapsed": false
   },
   "outputs": [
    {
     "data": {
      "text/plain": [
       "[1]"
      ]
     },
     "execution_count": 23,
     "metadata": {},
     "output_type": "execute_result"
    }
   ],
   "source": [
    "del d[1:]\n",
    "d"
   ]
  },
  {
   "cell_type": "code",
   "execution_count": null,
   "metadata": {
    "collapsed": true
   },
   "outputs": [],
   "source": []
  }
 ],
 "metadata": {
  "kernelspec": {
   "display_name": "Python 2",
   "language": "python",
   "name": "python2"
  },
  "language_info": {
   "codemirror_mode": {
    "name": "ipython",
    "version": 2
   },
   "file_extension": ".py",
   "mimetype": "text/x-python",
   "name": "python",
   "nbconvert_exporter": "python",
   "pygments_lexer": "ipython2",
   "version": "2.7.11"
  }
 },
 "nbformat": 4,
 "nbformat_minor": 0
}
