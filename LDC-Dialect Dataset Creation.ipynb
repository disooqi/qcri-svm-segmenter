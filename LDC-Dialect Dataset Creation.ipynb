{
 "cells": [
  {
   "cell_type": "code",
   "execution_count": 1,
   "metadata": {
    "collapsed": true
   },
   "outputs": [],
   "source": [
    "import codecs\n",
    "import math\n",
    "import re"
   ]
  },
  {
   "cell_type": "code",
   "execution_count": 5,
   "metadata": {
    "collapsed": false
   },
   "outputs": [
    {
     "name": "stdout",
     "output_type": "stream",
     "text": [
      "493677 404064\n"
     ]
    }
   ],
   "source": [
    "ldc_tokens = list()\n",
    "train_words = dict()\n",
    "\n",
    "with codecs.open(\"final_splits_all_data/joint/joint/magh_400K_LDC\", mode='w', encoding='utf-8') as wfobj:\n",
    "    seen = list()\n",
    "    with codecs.open(\"final_splits_all_data/joint/magh.trg\", encoding='utf-8') as seenfobj:\n",
    "        for line in seenfobj:\n",
    "#             parts = line.strip().split('\\t')\n",
    "#             if len(line.strip()) == 0 or len(parts) != 2:\n",
    "#                 #print parts\n",
    "#                 continue\n",
    "#             train_words[parts[1].replace('+','')] =1\n",
    "            train_words[line.strip().replace('+','')] =1\n",
    "            seen.append(line)\n",
    "                        \n",
    "    with codecs.open(\"LDC.tok.proper\", encoding='utf-8') as ldcfobj:\n",
    "        for line in ldcfobj:\n",
    "            if len(line.strip()) == 0:\n",
    "                continue\n",
    "            res = train_words.get(line.strip().replace('+',''),0)\n",
    "            if not res:\n",
    "#                 ldc_tokens.append(line.strip().replace('+','')+'\\t'+line)\n",
    "                # for egy\n",
    "                ldc_tokens.append(line)\n",
    "\n",
    "            #else:\n",
    "                #print line.strip()\n",
    "            \n",
    "    lev_400k = seen[:]\n",
    "    while len(lev_400k) < 400000:\n",
    "        lev_400k.extend(seen[:])\n",
    "        \n",
    "    for line in ldc_tokens:\n",
    "            wfobj.write(line)\n",
    "\n",
    "    for line in lev_400k:\n",
    "            wfobj.write(line)\n",
    "    print len(ldc_tokens), len(lev_400k)"
   ]
  }
 ],
 "metadata": {
  "kernelspec": {
   "display_name": "Python 2",
   "language": "python",
   "name": "python2"
  },
  "language_info": {
   "codemirror_mode": {
    "name": "ipython",
    "version": 2
   },
   "file_extension": ".py",
   "mimetype": "text/x-python",
   "name": "python",
   "nbconvert_exporter": "python",
   "pygments_lexer": "ipython2",
   "version": "2.7.11"
  }
 },
 "nbformat": 4,
 "nbformat_minor": 0
}
